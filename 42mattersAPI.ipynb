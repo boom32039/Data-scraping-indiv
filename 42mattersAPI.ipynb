{
  "nbformat": 4,
  "nbformat_minor": 0,
  "metadata": {
    "colab": {
      "name": "42mattersAPI.ipynb",
      "provenance": [],
      "collapsed_sections": [],
      "authorship_tag": "ABX9TyOrWvuSk7dDkHV/SSQ6WT4E",
      "include_colab_link": true
    },
    "kernelspec": {
      "name": "python3",
      "display_name": "Python 3"
    },
    "language_info": {
      "name": "python"
    }
  },
  "cells": [
    {
      "cell_type": "markdown",
      "metadata": {
        "id": "view-in-github",
        "colab_type": "text"
      },
      "source": [
        "<a href=\"https://colab.research.google.com/github/boom32039/Data-scraping-indiv/blob/main/42mattersAPI.ipynb\" target=\"_parent\"><img src=\"https://colab.research.google.com/assets/colab-badge.svg\" alt=\"Open In Colab\"/></a>"
      ]
    },
    {
      "cell_type": "markdown",
      "source": [
        "**Getting Google Play Top-Charts list**"
      ],
      "metadata": {
        "id": "YiWESIpORYxC"
      }
    },
    {
      "cell_type": "markdown",
      "source": [
        "Reference to senior code "
      ],
      "metadata": {
        "id": "byjnFgigRLnH"
      }
    },
    {
      "cell_type": "code",
      "source": [
        "import requests\n",
        "import json\n",
        "import os, os.path\n",
        "import urllib.request\n",
        "import time "
      ],
      "metadata": {
        "id": "M-0v3bw7QB14"
      },
      "execution_count": 1,
      "outputs": []
    },
    {
      "cell_type": "code",
      "source": [
        "# config\n",
        "api_url = 'https://data.42matters.com/api/v3.0/android/apps/top_google_charts.json'\n",
        "category_list = pd.read_json(\"/content/top_chart_categories.json\")\n",
        "access_token = 'XXXXXXXXXXXXXXXXXXXXXXXXXXXXXXXXXXXXXXXXXX'\n",
        "country = \"TH\"\n",
        "date = '24-12-2021'\n",
        "dic = {}"
      ],
      "metadata": {
        "id": "Z1FfcDaLQEeo"
      },
      "execution_count": 3,
      "outputs": []
    },
    {
      "cell_type": "code",
      "source": [
        "def createJSON(cat_key ,cat , country , access_token , date):\n",
        "  URL = \"https://data.42matters.com/api/v3.0/android/apps/top_google_charts.json?list_name=topselling_free&cat_key=\"+ cat_key +\"&country=\"+ country + \"&limit=100&access_token=\" + access_token + \"&page=1\"  + \"&date=\" + date \n",
        "  r = requests.get(url = URL)\n",
        "  data = r.json() \n",
        "  try:\n",
        "    d = data['app_list']\n",
        "    for app in d:\n",
        "      d0 = {}\n",
        "      d0['package_name'] = app[\"package_name\"]\n",
        "      try:\n",
        "        d0['name'] = app[\"title\"]\n",
        "      except:\n",
        "        d0['name'] = '-'\n",
        "      dic[cat].append(d0)\n",
        "  except:\n",
        "     print('Error is ->' , URL )\n",
        "     pass\n"
      ],
      "metadata": {
        "id": "tVc16DNUQHO_"
      },
      "execution_count": 4,
      "outputs": []
    },
    {
      "cell_type": "code",
      "source": [
        "#dict = {'cat1':[com.... , com....] , 'cat2' : []}\n",
        "def getAllJSON(cat_keys,date):\n",
        "    for c in cat_keys['categories']:\n",
        "          dic[c['name']] =  []\n",
        "          createJSON(c['cat_key'] , c['name'] , country , access_token , date)\n",
        "          time.sleep(2)\n",
        "    file_path = '/content/top_chart_apps.json'\n",
        "    with open(file_path,'w',encoding=\"utf-8\") as fp:\n",
        "        json.dump(dic, fp, indent=4, separators=(',', ': '), sort_keys=True)\n",
        "    fp.close()"
      ],
      "metadata": {
        "id": "GkYicIxqQLTm"
      },
      "execution_count": 5,
      "outputs": []
    },
    {
      "cell_type": "code",
      "source": [
        "# Get top-charts apps  as Json File From API\n",
        "getAllJSON(category_list,date)"
      ],
      "metadata": {
        "id": "RfxL4nzdQOLX"
      },
      "execution_count": null,
      "outputs": []
    }
  ]
}